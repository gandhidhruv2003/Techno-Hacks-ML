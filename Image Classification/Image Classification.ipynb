{
 "cells": [
  {
   "cell_type": "code",
   "execution_count": 1,
   "id": "79bb2897",
   "metadata": {},
   "outputs": [],
   "source": [
    "import tensorflow as tf\n",
    "from tensorflow.keras import datasets, layers, models\n",
    "import matplotlib.pyplot as plt\n",
    "import numpy as np"
   ]
  },
  {
   "cell_type": "code",
   "execution_count": 3,
   "id": "df31f08f",
   "metadata": {},
   "outputs": [],
   "source": [
    "(X_train, y_train), (X_test,y_test) = datasets.cifar10.load_data()"
   ]
  },
  {
   "cell_type": "code",
   "execution_count": 4,
   "id": "f423bdac",
   "metadata": {},
   "outputs": [
    {
     "data": {
      "text/plain": [
       "(50000, 32, 32, 3)"
      ]
     },
     "execution_count": 4,
     "metadata": {},
     "output_type": "execute_result"
    }
   ],
   "source": [
    "X_train.shape"
   ]
  },
  {
   "cell_type": "code",
   "execution_count": 5,
   "id": "2eed79ef",
   "metadata": {},
   "outputs": [
    {
     "data": {
      "text/plain": [
       "(10000, 32, 32, 3)"
      ]
     },
     "execution_count": 5,
     "metadata": {},
     "output_type": "execute_result"
    }
   ],
   "source": [
    "X_test.shape"
   ]
  },
  {
   "cell_type": "code",
   "execution_count": 6,
   "id": "51b72b65",
   "metadata": {},
   "outputs": [
    {
     "data": {
      "text/plain": [
       "(50000, 1)"
      ]
     },
     "execution_count": 6,
     "metadata": {},
     "output_type": "execute_result"
    }
   ],
   "source": [
    "y_train.shape"
   ]
  },
  {
   "cell_type": "code",
   "execution_count": 7,
   "id": "f3420d02",
   "metadata": {},
   "outputs": [
    {
     "data": {
      "text/plain": [
       "(10000, 1)"
      ]
     },
     "execution_count": 7,
     "metadata": {},
     "output_type": "execute_result"
    }
   ],
   "source": [
    "y_test.shape"
   ]
  },
  {
   "cell_type": "code",
   "execution_count": 8,
   "id": "743e0f85",
   "metadata": {},
   "outputs": [
    {
     "data": {
      "text/plain": [
       "(50000,)"
      ]
     },
     "execution_count": 8,
     "metadata": {},
     "output_type": "execute_result"
    }
   ],
   "source": [
    "y_train = y_train.reshape(-1,)\n",
    "y_train.shape"
   ]
  },
  {
   "cell_type": "code",
   "execution_count": 10,
   "id": "c0007ec5",
   "metadata": {},
   "outputs": [
    {
     "data": {
      "text/plain": [
       "(10000,)"
      ]
     },
     "execution_count": 10,
     "metadata": {},
     "output_type": "execute_result"
    }
   ],
   "source": [
    "y_test = y_test.reshape(-1,)\n",
    "y_test.shape"
   ]
  },
  {
   "cell_type": "code",
   "execution_count": 11,
   "id": "8e3cc2f3",
   "metadata": {},
   "outputs": [],
   "source": [
    "classes = [\"airplane\", \"automobile\", \"bird\", \"cat\", \"deer\", \"dog\", \"frog\", \"horse\", \"ship\", \"truck\"]"
   ]
  },
  {
   "cell_type": "code",
   "execution_count": 12,
   "id": "e922c4da",
   "metadata": {},
   "outputs": [],
   "source": [
    "def plot_sample(X, y, index):\n",
    "    plt.figure(figsize = (15,2))\n",
    "    plt.imshow(X[index])\n",
    "    plt.xlabel(classes[y[index]])"
   ]
  },
  {
   "cell_type": "code",
   "execution_count": 13,
   "id": "c38756d8",
   "metadata": {},
   "outputs": [
    {
     "data": {
      "image/png": "[encoded data removed]",
      "text/plain": [
       "<Figure size 1500x200 with 1 Axes>"
      ]
     },
     "metadata": {},
     "output_type": "display_data"
    }
   ],
   "source": [
    "plot_sample(X_train, y_train, 9)"
   ]
  },
  {
   "cell_type": "code",
   "execution_count": 14,
   "id": "2e69ee23",
   "metadata": {},
   "outputs": [],
   "source": [
    "X_train = X_train / 255.0\n",
    "X_test = X_test / 255.0"
   ]
  },
  {
   "cell_type": "code",
   "execution_count": 16,
   "id": "dc4f593b",
   "metadata": {},
   "outputs": [],
   "source": [
    "model = models.Sequential([\n",
    "    layers.Conv2D(filters=32, kernel_size=(3, 3), activation='relu', input_shape=(32, 32, 3)),\n",
    "    layers.MaxPooling2D((2, 2)),\n",
    "    \n",
    "    layers.Conv2D(filters=64, kernel_size=(3, 3), activation='relu'),\n",
    "    layers.MaxPooling2D((2, 2)),\n",
    "    \n",
    "    layers.Flatten(),\n",
    "    layers.Dense(64, activation='relu'),\n",
    "    layers.Dense(10, activation='softmax')\n",
    "])"
   ]
  },
  {
   "cell_type": "code",
   "execution_count": 17,
   "id": "5abb183d",
   "metadata": {},
   "outputs": [],
   "source": [
    "model.compile(optimizer='adam', loss='sparse_categorical_crossentropy', metrics=['accuracy'])"
   ]
  },
  {
   "cell_type": "code",
   "execution_count": 18,
   "id": "fb29d697",
   "metadata": {},
   "outputs": [
    {
     "name": "stdout",
     "output_type": "stream",
     "text": [
      "Epoch 1/100\n",
      "1563/1563 [==============================] - 21s 13ms/step - loss: 1.4622 - accuracy: 0.4749\n",
      "Epoch 2/100\n",
      "1563/1563 [==============================] - 19s 12ms/step - loss: 1.1195 - accuracy: 0.6096\n",
      "Epoch 3/100\n",
      "1563/1563 [==============================] - 19s 12ms/step - loss: 1.0036 - accuracy: 0.6507\n",
      "Epoch 4/100\n",
      "1563/1563 [==============================] - 20s 13ms/step - loss: 0.9132 - accuracy: 0.6824\n",
      "Epoch 5/100\n",
      "1563/1563 [==============================] - 24s 15ms/step - loss: 0.8525 - accuracy: 0.7042\n",
      "Epoch 6/100\n",
      "1563/1563 [==============================] - 27s 17ms/step - loss: 0.7943 - accuracy: 0.7240\n",
      "Epoch 7/100\n",
      "1563/1563 [==============================] - 31s 20ms/step - loss: 0.7478 - accuracy: 0.7398\n",
      "Epoch 8/100\n",
      "1563/1563 [==============================] - 24s 15ms/step - loss: 0.7074 - accuracy: 0.7547\n",
      "Epoch 9/100\n",
      "1563/1563 [==============================] - 24s 15ms/step - loss: 0.6675 - accuracy: 0.7682\n",
      "Epoch 10/100\n",
      "1563/1563 [==============================] - 23s 15ms/step - loss: 0.6298 - accuracy: 0.7806\n",
      "Epoch 11/100\n",
      "1563/1563 [==============================] - 24s 15ms/step - loss: 0.6023 - accuracy: 0.7894\n",
      "Epoch 12/100\n",
      "1563/1563 [==============================] - 28s 18ms/step - loss: 0.5694 - accuracy: 0.7998\n",
      "Epoch 13/100\n",
      "1563/1563 [==============================] - 24s 16ms/step - loss: 0.5425 - accuracy: 0.8097\n",
      "Epoch 14/100\n",
      "1563/1563 [==============================] - 27s 17ms/step - loss: 0.5150 - accuracy: 0.8191\n",
      "Epoch 15/100\n",
      "1563/1563 [==============================] - 27s 17ms/step - loss: 0.4866 - accuracy: 0.8283\n",
      "Epoch 16/100\n",
      "1563/1563 [==============================] - 25s 16ms/step - loss: 0.4645 - accuracy: 0.8354\n",
      "Epoch 17/100\n",
      "1563/1563 [==============================] - 27s 17ms/step - loss: 0.4430 - accuracy: 0.8418\n",
      "Epoch 18/100\n",
      "1563/1563 [==============================] - 28s 18ms/step - loss: 0.4219 - accuracy: 0.8503\n",
      "Epoch 19/100\n",
      "1563/1563 [==============================] - 27s 17ms/step - loss: 0.3988 - accuracy: 0.8584\n",
      "Epoch 20/100\n",
      "1563/1563 [==============================] - 26s 16ms/step - loss: 0.3784 - accuracy: 0.8656\n",
      "Epoch 21/100\n",
      "1563/1563 [==============================] - 27s 17ms/step - loss: 0.3603 - accuracy: 0.8721\n",
      "Epoch 22/100\n",
      "1563/1563 [==============================] - 23s 15ms/step - loss: 0.3432 - accuracy: 0.8770\n",
      "Epoch 23/100\n",
      "1563/1563 [==============================] - 22s 14ms/step - loss: 0.3270 - accuracy: 0.8815\n",
      "Epoch 24/100\n",
      "1563/1563 [==============================] - 21s 14ms/step - loss: 0.3112 - accuracy: 0.8877\n",
      "Epoch 25/100\n",
      "1563/1563 [==============================] - 22s 14ms/step - loss: 0.2984 - accuracy: 0.8920\n",
      "Epoch 26/100\n",
      "1563/1563 [==============================] - 23s 14ms/step - loss: 0.2811 - accuracy: 0.8996\n",
      "Epoch 27/100\n",
      "1563/1563 [==============================] - 24s 16ms/step - loss: 0.2731 - accuracy: 0.9019\n",
      "Epoch 28/100\n",
      "1563/1563 [==============================] - 24s 16ms/step - loss: 0.2574 - accuracy: 0.9074\n",
      "Epoch 29/100\n",
      "1563/1563 [==============================] - 23s 15ms/step - loss: 0.2452 - accuracy: 0.9111\n",
      "Epoch 30/100\n",
      "1563/1563 [==============================] - 22s 14ms/step - loss: 0.2378 - accuracy: 0.9141\n",
      "Epoch 31/100\n",
      "1563/1563 [==============================] - 24s 15ms/step - loss: 0.2271 - accuracy: 0.9184\n",
      "Epoch 32/100\n",
      "1563/1563 [==============================] - 21s 13ms/step - loss: 0.2191 - accuracy: 0.9191\n",
      "Epoch 33/100\n",
      "1563/1563 [==============================] - 23s 15ms/step - loss: 0.2111 - accuracy: 0.9225\n",
      "Epoch 34/100\n",
      "1563/1563 [==============================] - 23s 15ms/step - loss: 0.2058 - accuracy: 0.9246\n",
      "Epoch 35/100\n",
      "1563/1563 [==============================] - 22s 14ms/step - loss: 0.1962 - accuracy: 0.9284\n",
      "Epoch 36/100\n",
      "1563/1563 [==============================] - 22s 14ms/step - loss: 0.1849 - accuracy: 0.9338\n",
      "Epoch 37/100\n",
      "1563/1563 [==============================] - 22s 14ms/step - loss: 0.1828 - accuracy: 0.9336\n",
      "Epoch 38/100\n",
      "1563/1563 [==============================] - 21s 14ms/step - loss: 0.1738 - accuracy: 0.9356\n",
      "Epoch 39/100\n",
      "1563/1563 [==============================] - 21s 14ms/step - loss: 0.1674 - accuracy: 0.9399\n",
      "Epoch 40/100\n",
      "1563/1563 [==============================] - 21s 14ms/step - loss: 0.1676 - accuracy: 0.9402\n",
      "Epoch 41/100\n",
      "1563/1563 [==============================] - 23s 15ms/step - loss: 0.1526 - accuracy: 0.9447\n",
      "Epoch 42/100\n",
      "1563/1563 [==============================] - 24s 15ms/step - loss: 0.1566 - accuracy: 0.9437\n",
      "Epoch 43/100\n",
      "1563/1563 [==============================] - 23s 15ms/step - loss: 0.1473 - accuracy: 0.9462\n",
      "Epoch 44/100\n",
      "1563/1563 [==============================] - 21s 14ms/step - loss: 0.1451 - accuracy: 0.9482\n",
      "Epoch 45/100\n",
      "1563/1563 [==============================] - 21s 14ms/step - loss: 0.1382 - accuracy: 0.9504\n",
      "Epoch 46/100\n",
      "1563/1563 [==============================] - 22s 14ms/step - loss: 0.1357 - accuracy: 0.9500\n",
      "Epoch 47/100\n",
      "1563/1563 [==============================] - 21s 14ms/step - loss: 0.1361 - accuracy: 0.9509\n",
      "Epoch 48/100\n",
      "1563/1563 [==============================] - 23s 15ms/step - loss: 0.1434 - accuracy: 0.9483\n",
      "Epoch 49/100\n",
      "1563/1563 [==============================] - 25s 16ms/step - loss: 0.1242 - accuracy: 0.9555\n",
      "Epoch 50/100\n",
      "1563/1563 [==============================] - 23s 15ms/step - loss: 0.1270 - accuracy: 0.9541\n",
      "Epoch 51/100\n",
      "1563/1563 [==============================] - 23s 15ms/step - loss: 0.1281 - accuracy: 0.9542\n",
      "Epoch 52/100\n",
      "1563/1563 [==============================] - 21s 14ms/step - loss: 0.1245 - accuracy: 0.9551\n",
      "Epoch 53/100\n",
      "1563/1563 [==============================] - 22s 14ms/step - loss: 0.1261 - accuracy: 0.9561\n",
      "Epoch 54/100\n",
      "1563/1563 [==============================] - 22s 14ms/step - loss: 0.1125 - accuracy: 0.9590\n",
      "Epoch 55/100\n",
      "1563/1563 [==============================] - 22s 14ms/step - loss: 0.1123 - accuracy: 0.9599\n",
      "Epoch 56/100\n",
      "1563/1563 [==============================] - 21s 14ms/step - loss: 0.1146 - accuracy: 0.9598\n",
      "Epoch 57/100\n",
      "1563/1563 [==============================] - 21s 14ms/step - loss: 0.1140 - accuracy: 0.9602\n",
      "Epoch 58/100\n",
      "1563/1563 [==============================] - 22s 14ms/step - loss: 0.1095 - accuracy: 0.9610\n",
      "Epoch 59/100\n",
      "1563/1563 [==============================] - 23s 15ms/step - loss: 0.1035 - accuracy: 0.9637\n",
      "Epoch 60/100\n",
      "1563/1563 [==============================] - 23s 14ms/step - loss: 0.1125 - accuracy: 0.9607\n",
      "Epoch 61/100\n",
      "1563/1563 [==============================] - 22s 14ms/step - loss: 0.1043 - accuracy: 0.9639\n",
      "Epoch 62/100\n",
      "1563/1563 [==============================] - 22s 14ms/step - loss: 0.0997 - accuracy: 0.9646\n",
      "Epoch 63/100\n",
      "1563/1563 [==============================] - 21s 14ms/step - loss: 0.0991 - accuracy: 0.9654\n",
      "Epoch 64/100\n",
      "1563/1563 [==============================] - 22s 14ms/step - loss: 0.1075 - accuracy: 0.9631\n",
      "Epoch 65/100\n",
      "1563/1563 [==============================] - 21s 13ms/step - loss: 0.0934 - accuracy: 0.9667\n",
      "Epoch 66/100\n",
      "1563/1563 [==============================] - 21s 13ms/step - loss: 0.0924 - accuracy: 0.9678\n",
      "Epoch 67/100\n",
      "1563/1563 [==============================] - 21s 14ms/step - loss: 0.1010 - accuracy: 0.9643\n",
      "Epoch 68/100\n",
      "1563/1563 [==============================] - 22s 14ms/step - loss: 0.0987 - accuracy: 0.9652\n",
      "Epoch 69/100\n",
      "1563/1563 [==============================] - 22s 14ms/step - loss: 0.0916 - accuracy: 0.9685\n",
      "Epoch 70/100\n",
      "1563/1563 [==============================] - 22s 14ms/step - loss: 0.0876 - accuracy: 0.9687\n",
      "Epoch 71/100\n",
      "1563/1563 [==============================] - 22s 14ms/step - loss: 0.0949 - accuracy: 0.9671\n",
      "Epoch 72/100\n",
      "1563/1563 [==============================] - 24s 15ms/step - loss: 0.0939 - accuracy: 0.9687\n",
      "Epoch 73/100\n",
      "1563/1563 [==============================] - 24s 15ms/step - loss: 0.0889 - accuracy: 0.9695\n",
      "Epoch 74/100\n",
      "1563/1563 [==============================] - 22s 14ms/step - loss: 0.0833 - accuracy: 0.9716\n",
      "Epoch 75/100\n",
      "1563/1563 [==============================] - 24s 15ms/step - loss: 0.0944 - accuracy: 0.9686\n",
      "Epoch 76/100\n",
      "1563/1563 [==============================] - 24s 15ms/step - loss: 0.0862 - accuracy: 0.9712\n",
      "Epoch 77/100\n",
      "1563/1563 [==============================] - 25s 16ms/step - loss: 0.0840 - accuracy: 0.9705\n",
      "Epoch 78/100\n"
     ]
    },
    {
     "name": "stdout",
     "output_type": "stream",
     "text": [
      "1563/1563 [==============================] - 21s 14ms/step - loss: 0.0810 - accuracy: 0.9715\n",
      "Epoch 79/100\n",
      "1563/1563 [==============================] - 23s 15ms/step - loss: 0.0896 - accuracy: 0.9698\n",
      "Epoch 80/100\n",
      "1563/1563 [==============================] - 23s 15ms/step - loss: 0.0823 - accuracy: 0.9724\n",
      "Epoch 81/100\n",
      "1563/1563 [==============================] - 22s 14ms/step - loss: 0.0894 - accuracy: 0.9697\n",
      "Epoch 82/100\n",
      "1563/1563 [==============================] - 21s 14ms/step - loss: 0.0773 - accuracy: 0.9740\n",
      "Epoch 83/100\n",
      "1563/1563 [==============================] - 21s 13ms/step - loss: 0.0838 - accuracy: 0.9720\n",
      "Epoch 84/100\n",
      "1563/1563 [==============================] - 23s 15ms/step - loss: 0.0799 - accuracy: 0.9738\n",
      "Epoch 85/100\n",
      "1563/1563 [==============================] - 23s 15ms/step - loss: 0.0851 - accuracy: 0.9724\n",
      "Epoch 86/100\n",
      "1563/1563 [==============================] - 22s 14ms/step - loss: 0.0799 - accuracy: 0.9729\n",
      "Epoch 87/100\n",
      "1563/1563 [==============================] - 23s 15ms/step - loss: 0.0740 - accuracy: 0.9746\n",
      "Epoch 88/100\n",
      "1563/1563 [==============================] - 22s 14ms/step - loss: 0.0817 - accuracy: 0.9732\n",
      "Epoch 89/100\n",
      "1563/1563 [==============================] - 23s 14ms/step - loss: 0.0748 - accuracy: 0.9755\n",
      "Epoch 90/100\n",
      "1563/1563 [==============================] - 22s 14ms/step - loss: 0.0771 - accuracy: 0.9740\n",
      "Epoch 91/100\n",
      "1563/1563 [==============================] - 22s 14ms/step - loss: 0.0746 - accuracy: 0.9749\n",
      "Epoch 92/100\n",
      "1563/1563 [==============================] - 21s 13ms/step - loss: 0.0819 - accuracy: 0.9728\n",
      "Epoch 93/100\n",
      "1563/1563 [==============================] - 21s 13ms/step - loss: 0.0723 - accuracy: 0.9756\n",
      "Epoch 94/100\n",
      "1563/1563 [==============================] - 21s 14ms/step - loss: 0.0793 - accuracy: 0.9744\n",
      "Epoch 95/100\n",
      "1563/1563 [==============================] - 22s 14ms/step - loss: 0.0767 - accuracy: 0.9743\n",
      "Epoch 96/100\n",
      "1563/1563 [==============================] - 21s 14ms/step - loss: 0.0724 - accuracy: 0.9756\n",
      "Epoch 97/100\n",
      "1563/1563 [==============================] - 24s 15ms/step - loss: 0.0768 - accuracy: 0.9759\n",
      "Epoch 98/100\n",
      "1563/1563 [==============================] - 23s 15ms/step - loss: 0.0743 - accuracy: 0.9751\n",
      "Epoch 99/100\n",
      "1563/1563 [==============================] - 23s 15ms/step - loss: 0.0744 - accuracy: 0.9758\n",
      "Epoch 100/100\n",
      "1563/1563 [==============================] - 23s 15ms/step - loss: 0.0652 - accuracy: 0.9785\n"
     ]
    },
    {
     "data": {
      "text/plain": [
       "<keras.callbacks.History at 0x13bb0282550>"
      ]
     },
     "execution_count": 18,
     "metadata": {},
     "output_type": "execute_result"
    }
   ],
   "source": [
    "model.fit(X_train, y_train, epochs=100)"
   ]
  },
  {
   "cell_type": "code",
   "execution_count": 19,
   "id": "328523db",
   "metadata": {},
   "outputs": [
    {
     "name": "stdout",
     "output_type": "stream",
     "text": [
      "313/313 [==============================] - 3s 9ms/step - loss: 4.3865 - accuracy: 0.6581\n"
     ]
    },
    {
     "data": {
      "text/plain": [
       "[4.386455535888672, 0.6581000089645386]"
      ]
     },
     "execution_count": 19,
     "metadata": {},
     "output_type": "execute_result"
    }
   ],
   "source": [
    "model.evaluate(X_test,y_test)"
   ]
  },
  {
   "cell_type": "code",
   "execution_count": 20,
   "id": "42a61620",
   "metadata": {},
   "outputs": [
    {
     "name": "stdout",
     "output_type": "stream",
     "text": [
      "313/313 [==============================] - 2s 6ms/step\n"
     ]
    }
   ],
   "source": [
    "y_pred = model.predict(X_test)"
   ]
  },
  {
   "cell_type": "code",
   "execution_count": 21,
   "id": "53be0956",
   "metadata": {},
   "outputs": [],
   "source": [
    "y_classes = [np.argmax(element) for element in y_pred]"
   ]
  },
  {
   "cell_type": "code",
   "execution_count": 23,
   "id": "d4174d17",
   "metadata": {},
   "outputs": [
    {
     "data": {
      "image/png": "[encoded data removed]",
      "text/plain": [
       "<Figure size 1500x200 with 1 Axes>"
      ]
     },
     "metadata": {},
     "output_type": "display_data"
    }
   ],
   "source": [
    "plot_sample(X_train, y_train, 10)"
   ]
  },
  {
   "cell_type": "code",
   "execution_count": 24,
   "id": "5bca237f",
   "metadata": {},
   "outputs": [
    {
     "data": {
      "text/plain": [
       "'deer'"
      ]
     },
     "execution_count": 24,
     "metadata": {},
     "output_type": "execute_result"
    }
   ],
   "source": [
    "classes[y_classes[10]]"
   ]
  },
  {
   "cell_type": "code",
   "execution_count": null,
   "id": "32cf473d",
   "metadata": {},
   "outputs": [],
   "source": []
  }
 ],
 "metadata": {
  "kernelspec": {
   "display_name": "Python 3 (ipykernel)",
   "language": "python",
   "name": "python3"
  },
  "language_info": {
   "codemirror_mode": {
    "name": "ipython",
    "version": 3
   },
   "file_extension": ".py",
   "mimetype": "text/x-python",
   "name": "python",
   "nbconvert_exporter": "python",
   "pygments_lexer": "ipython3",
   "version": "3.9.13"
  }
 },
 "nbformat": 4,
 "nbformat_minor": 5
}
